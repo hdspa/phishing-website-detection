{
 "cells": [
  {
   "cell_type": "markdown",
   "metadata": {},
   "source": [
    "# Data splitting"
   ]
  },
  {
   "cell_type": "markdown",
   "metadata": {},
   "source": [
    "## Initial train and test split"
   ]
  },
  {
   "cell_type": "code",
   "execution_count": 1,
   "metadata": {
    "collapsed": false
   },
   "outputs": [],
   "source": [
    "from utils import wrangle_data, dummy_to_labels, SEED\n",
    "import pandas as pd\n",
    "import numpy as np\n",
    "from sklearn.model_selection import train_test_split, StratifiedKFold\n",
    "from imblearn.under_sampling import CondensedNearestNeighbour, OneSidedSelection, RandomUnderSampler \n",
    "from collections import Counter\n",
    "import os\n",
    "import pickle"
   ]
  },
  {
   "cell_type": "code",
   "execution_count": 2,
   "metadata": {
    "collapsed": false
   },
   "outputs": [],
   "source": [
    "df = wrangle_data(dummy=True)"
   ]
  },
  {
   "cell_type": "code",
   "execution_count": 3,
   "metadata": {
    "collapsed": false
   },
   "outputs": [],
   "source": [
    "x_vars = df.drop(['Statistical_report', 'Result'], axis=1)\n",
    "y_vars = df['Result']"
   ]
  },
  {
   "cell_type": "code",
   "execution_count": 4,
   "metadata": {
    "collapsed": false
   },
   "outputs": [],
   "source": [
    "x_train, x_test, y_train, y_test = train_test_split(x_vars, y_vars, test_size=0.2, random_state=SEED)"
   ]
  },
  {
   "cell_type": "code",
   "execution_count": 6,
   "metadata": {
    "collapsed": true
   },
   "outputs": [],
   "source": [
    "with open('./rebalanced_data/test_set.pickle', mode='wb') as f:\n",
    "    pickle.dump({'x': pd.DataFrame(x_test, columns=x_vars.columns),\n",
    "                 'y': y_test},\n",
    "                f,\n",
    "                protocol=4)"
   ]
  },
  {
   "cell_type": "code",
   "execution_count": 7,
   "metadata": {
    "collapsed": false
   },
   "outputs": [
    {
     "data": {
      "text/plain": [
       "legit      4886\n",
       "phising    3958\n",
       "Name: Result, dtype: int64"
      ]
     },
     "execution_count": 7,
     "metadata": {},
     "output_type": "execute_result"
    }
   ],
   "source": [
    "y_train.apply(lambda x: 'legit' if x == 1 else 'phising').value_counts()"
   ]
  },
  {
   "cell_type": "markdown",
   "metadata": {},
   "source": [
    "Las clases no están balanceadas: a continuación se utilizarán una o varias técnicas para conseguir el equilibrio entre clases."
   ]
  },
  {
   "cell_type": "markdown",
   "metadata": {},
   "source": [
    "https://books.google.es/books?id=eZJjDQAAQBAJ&pg=PA81&lpg=PA81&dq=condensed+nearest+neighbour+vs+one+sided+selection&source=bl&ots=jhqcx6JeCN&sig=G8jyXElGdp4c3cfvO9r9tS2XCs0&hl=es&sa=X&ved=0ahUKEwiIl5SiluvVAhVGORQKHY49CR4Q6AEIbTAJ#v=onepage&q=condensed%20nearest%20neighbour%20vs%20one%20sided%20selection&f=false"
   ]
  },
  {
   "cell_type": "markdown",
   "metadata": {},
   "source": [
    "### Condensed Nearest Neighbour"
   ]
  },
  {
   "cell_type": "code",
   "execution_count": 12,
   "metadata": {
    "collapsed": false
   },
   "outputs": [],
   "source": [
    "n_cpus = os.cpu_count()\n",
    "\n",
    "n_cpus = 1 if n_cpus is None else n_cpus\n",
    "\n",
    "cnn = CondensedNearestNeighbour(random_state=SEED, n_jobs=n_cpus) \n",
    "\n",
    "x_train_cnn, y_train_cnn = cnn.fit_sample(x_train, y_train) "
   ]
  },
  {
   "cell_type": "code",
   "execution_count": 8,
   "metadata": {
    "collapsed": false
   },
   "outputs": [
    {
     "data": {
      "text/plain": [
       "Counter({'legit': 916, 'phising': 3958})"
      ]
     },
     "execution_count": 8,
     "metadata": {},
     "output_type": "execute_result"
    }
   ],
   "source": [
    "results_to_vals = np.vectorize(lambda x: 'legit' if x == 1 else 'phising')\n",
    "\n",
    "Counter(results_to_vals(y_train_cnn))"
   ]
  },
  {
   "cell_type": "code",
   "execution_count": 13,
   "metadata": {
    "collapsed": true
   },
   "outputs": [],
   "source": [
    "with open('./rebalanced_data/train_set_cnn.pickle', mode='wb') as f:\n",
    "    pickle.dump({'x': pd.DataFrame(x_train_cnn, columns=x_vars.columns),\n",
    "                 'y': y_train_cnn},\n",
    "                f,\n",
    "                protocol=4)"
   ]
  },
  {
   "cell_type": "markdown",
   "metadata": {},
   "source": [
    "### One Sided Selection"
   ]
  },
  {
   "cell_type": "code",
   "execution_count": 10,
   "metadata": {
    "collapsed": false
   },
   "outputs": [],
   "source": [
    "oss = OneSidedSelection(random_state=SEED, n_jobs=n_cpus) \n",
    "\n",
    "x_train_oss, y_train_oss = oss.fit_sample(x_train, y_train) "
   ]
  },
  {
   "cell_type": "code",
   "execution_count": 10,
   "metadata": {
    "collapsed": false
   },
   "outputs": [
    {
     "data": {
      "text/plain": [
       "Counter({'legit': 4861, 'phising': 3958})"
      ]
     },
     "execution_count": 10,
     "metadata": {},
     "output_type": "execute_result"
    }
   ],
   "source": [
    "Counter(results_to_vals(y_train_oss))"
   ]
  },
  {
   "cell_type": "code",
   "execution_count": 11,
   "metadata": {
    "collapsed": false
   },
   "outputs": [],
   "source": [
    "with open('./rebalanced_data/train_set_oss.pickle', mode='wb') as f:\n",
    "    pickle.dump({'x': pd.DataFrame(x_train_oss, columns=x_vars.columns),\n",
    "                 'y': y_train_oss},\n",
    "                f,\n",
    "                protocol=4)"
   ]
  },
  {
   "cell_type": "markdown",
   "metadata": {},
   "source": [
    "### Simple Random Undersampling"
   ]
  },
  {
   "cell_type": "code",
   "execution_count": 11,
   "metadata": {
    "collapsed": false
   },
   "outputs": [],
   "source": [
    "sru = RandomUnderSampler(random_state=SEED, ratio='auto') \n",
    "\n",
    "x_train_sru, y_train_sru = sru.fit_sample(x_train, y_train) "
   ]
  },
  {
   "cell_type": "code",
   "execution_count": 12,
   "metadata": {
    "collapsed": false
   },
   "outputs": [
    {
     "data": {
      "text/plain": [
       "Counter({'legit': 3958, 'phising': 3958})"
      ]
     },
     "execution_count": 12,
     "metadata": {},
     "output_type": "execute_result"
    }
   ],
   "source": [
    "Counter(results_to_vals(y_train_sru))"
   ]
  },
  {
   "cell_type": "markdown",
   "metadata": {},
   "source": [
    "Los resultados ofrecidos por los dos primeros métodos son interesantes de estudiar, dado que su objetivo es quedarse con aquellas observaciones que son prototipos (http://www.math.le.ac.uk/people/ag153/homepage/KNN/OliverKNN_Presentation.pdf pag. 19). \n",
    "\n",
    "Sin embargo, empezaremos utilizando este último método que es el más común."
   ]
  },
  {
   "cell_type": "markdown",
   "metadata": {},
   "source": [
    "## 5-Folds"
   ]
  },
  {
   "cell_type": "code",
   "execution_count": 15,
   "metadata": {
    "collapsed": true
   },
   "outputs": [],
   "source": [
    "def create_folds_dict(x_train_balanced, y_train_balanced, k):\n",
    "    x_vars_aux = pd.DataFrame(x_train_balanced, columns=x_vars.columns)\n",
    "    y_var_aux = y_train_balanced   \n",
    "    \n",
    "    skf = StratifiedKFold(n_splits=k, random_state=SEED, shuffle=False)\n",
    "\n",
    "    k_folds_splits = skf.split(x_vars_aux, y_var_aux)\n",
    "\n",
    "    train_folds = []\n",
    "\n",
    "    for train_index, test_index in k_folds_splits:\n",
    "        train_folds.append({'train': {'x': x_vars_aux.iloc[train_index], \n",
    "                                      'y': y_var_aux[train_index]}, \n",
    "                            'valid': {'x': x_vars_aux.iloc[test_index], \n",
    "                                      'y': y_var_aux[test_index]}\n",
    "                           })\n",
    "        \n",
    "    train_folds.append(skf)\n",
    "    \n",
    "    return train_folds"
   ]
  },
  {
   "cell_type": "code",
   "execution_count": 22,
   "metadata": {
    "collapsed": false
   },
   "outputs": [],
   "source": [
    "train_folds = create_folds_dict(x_train_sru, y_train_sru, k=5)"
   ]
  },
  {
   "cell_type": "code",
   "execution_count": 23,
   "metadata": {
    "collapsed": false
   },
   "outputs": [
    {
     "name": "stdout",
     "output_type": "stream",
     "text": [
      "Counter({'legit': 3166, 'phising': 3166})\n",
      "Counter({'legit': 3166, 'phising': 3166})\n",
      "Counter({'legit': 3166, 'phising': 3166})\n",
      "Counter({'legit': 3167, 'phising': 3167})\n",
      "Counter({'legit': 3167, 'phising': 3167})\n"
     ]
    }
   ],
   "source": [
    "print(Counter(results_to_vals(train_folds[0]['train']['y'])))\n",
    "print(Counter(results_to_vals(train_folds[1]['train']['y'])))\n",
    "print(Counter(results_to_vals(train_folds[2]['train']['y'])))\n",
    "print(Counter(results_to_vals(train_folds[3]['train']['y'])))\n",
    "print(Counter(results_to_vals(train_folds[4]['train']['y'])))"
   ]
  },
  {
   "cell_type": "markdown",
   "metadata": {},
   "source": [
    "Guardamos el diccionario con los diferentes pliegues en un archivo para que pueda ser utilizado en otros notebooks."
   ]
  },
  {
   "cell_type": "code",
   "execution_count": 24,
   "metadata": {
    "collapsed": false
   },
   "outputs": [],
   "source": [
    "with open('./rebalanced_data/k_folds_sru.pickle', mode='wb') as f:\n",
    "    pickle.dump(train_folds, f, protocol=4)"
   ]
  },
  {
   "cell_type": "markdown",
   "metadata": {},
   "source": [
    "Se guardan en diferentes archivos los otros balanceos anteriores por si interesara usarlos en el futuro."
   ]
  },
  {
   "cell_type": "code",
   "execution_count": 16,
   "metadata": {
    "collapsed": false
   },
   "outputs": [],
   "source": [
    "with open('./rebalanced_data/k_folds_cnn.pickle', mode='wb') as f:\n",
    "    pickle.dump(create_folds_dict(x_train_cnn, y_train_cnn, k=5), f, protocol=4)\n",
    "    \n",
    "with open('./rebalanced_data/k_folds_oss.pickle', mode='wb') as f:\n",
    "    pickle.dump(create_folds_dict(x_train_oss, y_train_oss, k=5), f, protocol=4)"
   ]
  },
  {
   "cell_type": "markdown",
   "metadata": {},
   "source": [
    "Guardamos en un fichero la partición entera de train, en este caso sólo de SRU."
   ]
  },
  {
   "cell_type": "code",
   "execution_count": 25,
   "metadata": {
    "collapsed": true
   },
   "outputs": [],
   "source": [
    "with open('./rebalanced_data/train_set_sru.pickle', mode='wb') as f:\n",
    "    pickle.dump({'x': pd.DataFrame(x_train_sru, columns=x_vars.columns),\n",
    "                 'y': y_train_sru},\n",
    "                f,\n",
    "                protocol=4)"
   ]
  }
 ],
 "metadata": {
  "anaconda-cloud": {},
  "kernelspec": {
   "display_name": "Python [intro]",
   "language": "python",
   "name": "Python [intro]"
  },
  "language_info": {
   "codemirror_mode": {
    "name": "ipython",
    "version": 3
   },
   "file_extension": ".py",
   "mimetype": "text/x-python",
   "name": "python",
   "nbconvert_exporter": "python",
   "pygments_lexer": "ipython3",
   "version": "3.5.2"
  }
 },
 "nbformat": 4,
 "nbformat_minor": 0
}
