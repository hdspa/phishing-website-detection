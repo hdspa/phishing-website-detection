{
 "cells": [
  {
   "cell_type": "markdown",
   "metadata": {},
   "source": [
    "# Spark + H2O"
   ]
  },
  {
   "cell_type": "markdown",
   "metadata": {},
   "source": [
    "- Spark 2.0.2\n",
    "- Scala 2.11"
   ]
  },
  {
   "cell_type": "code",
   "execution_count": 3,
   "metadata": {
    "collapsed": false
   },
   "outputs": [
    {
     "ename": "ImportError",
     "evalue": "No module named 'pyspark'",
     "output_type": "error",
     "traceback": [
      "\u001b[1;31m---------------------------------------------------------------------------\u001b[0m",
      "\u001b[1;31mImportError\u001b[0m                               Traceback (most recent call last)",
      "\u001b[1;32m<ipython-input-3-8abdcf3018e1>\u001b[0m in \u001b[0;36m<module>\u001b[1;34m()\u001b[0m\n\u001b[0;32m      2\u001b[0m \u001b[1;32mimport\u001b[0m \u001b[0mpandas\u001b[0m \u001b[1;32mas\u001b[0m \u001b[0mpd\u001b[0m\u001b[1;33m\u001b[0m\u001b[0m\n\u001b[0;32m      3\u001b[0m \u001b[1;32mimport\u001b[0m \u001b[0mnumpy\u001b[0m \u001b[1;32mas\u001b[0m \u001b[0mnp\u001b[0m\u001b[1;33m\u001b[0m\u001b[0m\n\u001b[1;32m----> 4\u001b[1;33m \u001b[1;32mfrom\u001b[0m \u001b[0mpysparkling\u001b[0m \u001b[1;32mimport\u001b[0m \u001b[1;33m*\u001b[0m\u001b[1;33m\u001b[0m\u001b[0m\n\u001b[0m\u001b[0;32m      5\u001b[0m \u001b[1;32mimport\u001b[0m \u001b[0mh2o\u001b[0m\u001b[1;33m\u001b[0m\u001b[0m\n\u001b[0;32m      6\u001b[0m \u001b[1;32mfrom\u001b[0m \u001b[0mh2o\u001b[0m\u001b[1;33m.\u001b[0m\u001b[0mestimators\u001b[0m\u001b[1;33m.\u001b[0m\u001b[0mgbm\u001b[0m \u001b[1;32mimport\u001b[0m \u001b[0mH2OGradientBoostingEstimator\u001b[0m\u001b[1;33m\u001b[0m\u001b[0m\n",
      "\u001b[1;32m/home/jose/anaconda3/envs/intro/lib/python3.5/site-packages/pysparkling/__init__.py\u001b[0m in \u001b[0;36m<module>\u001b[1;34m()\u001b[0m\n\u001b[0;32m      9\u001b[0m \u001b[1;33m\u001b[0m\u001b[0m\n\u001b[0;32m     10\u001b[0m \u001b[1;31m# set imports from this project which will be available when the module is imported\u001b[0m\u001b[1;33m\u001b[0m\u001b[1;33m\u001b[0m\u001b[0m\n\u001b[1;32m---> 11\u001b[1;33m \u001b[1;32mfrom\u001b[0m \u001b[0mpysparkling\u001b[0m\u001b[1;33m.\u001b[0m\u001b[0mcontext\u001b[0m \u001b[1;32mimport\u001b[0m \u001b[0mH2OContext\u001b[0m\u001b[1;33m\u001b[0m\u001b[0m\n\u001b[0m\u001b[0;32m     12\u001b[0m \u001b[1;32mfrom\u001b[0m \u001b[0mpysparkling\u001b[0m\u001b[1;33m.\u001b[0m\u001b[0mconf\u001b[0m \u001b[1;32mimport\u001b[0m \u001b[0mH2OConf\u001b[0m\u001b[1;33m\u001b[0m\u001b[0m\n\u001b[0;32m     13\u001b[0m \u001b[1;33m\u001b[0m\u001b[0m\n",
      "\u001b[1;32m/home/jose/anaconda3/envs/intro/lib/python3.5/site-packages/pysparkling/context.py\u001b[0m in \u001b[0;36m<module>\u001b[1;34m()\u001b[0m\n\u001b[1;32m----> 1\u001b[1;33m \u001b[1;32mfrom\u001b[0m \u001b[0mpyspark\u001b[0m\u001b[1;33m.\u001b[0m\u001b[0mcontext\u001b[0m \u001b[1;32mimport\u001b[0m \u001b[0mSparkContext\u001b[0m\u001b[1;33m\u001b[0m\u001b[0m\n\u001b[0m\u001b[0;32m      2\u001b[0m \u001b[1;32mfrom\u001b[0m \u001b[0mpyspark\u001b[0m\u001b[1;33m.\u001b[0m\u001b[0msql\u001b[0m\u001b[1;33m.\u001b[0m\u001b[0mdataframe\u001b[0m \u001b[1;32mimport\u001b[0m \u001b[0mDataFrame\u001b[0m\u001b[1;33m\u001b[0m\u001b[0m\n\u001b[0;32m      3\u001b[0m \u001b[1;32mfrom\u001b[0m \u001b[0mpyspark\u001b[0m\u001b[1;33m.\u001b[0m\u001b[0mrdd\u001b[0m \u001b[1;32mimport\u001b[0m \u001b[0mRDD\u001b[0m\u001b[1;33m\u001b[0m\u001b[0m\n\u001b[0;32m      4\u001b[0m \u001b[1;32mfrom\u001b[0m \u001b[0mpyspark\u001b[0m\u001b[1;33m.\u001b[0m\u001b[0msql\u001b[0m \u001b[1;32mimport\u001b[0m \u001b[0mSparkSession\u001b[0m\u001b[1;33m\u001b[0m\u001b[0m\n\u001b[0;32m      5\u001b[0m \u001b[1;32mfrom\u001b[0m \u001b[0mh2o\u001b[0m\u001b[1;33m.\u001b[0m\u001b[0mframe\u001b[0m \u001b[1;32mimport\u001b[0m \u001b[0mH2OFrame\u001b[0m\u001b[1;33m\u001b[0m\u001b[0m\n",
      "\u001b[1;31mImportError\u001b[0m: No module named 'pyspark'"
     ]
    }
   ],
   "source": [
    "import pickle\n",
    "import pandas as pd\n",
    "import numpy as np\n",
    "from pysparkling import *\n",
    "import h2o\n",
    "from h2o.estimators.gbm import H2OGradientBoostingEstimator\n",
    "from h2o.estimators.random_forest import H2ORandomForestEstimator\n",
    "from h2o.grid.grid_search import H2OGridSearch\n",
    "from utils import SEED"
   ]
  },
  {
   "cell_type": "code",
   "execution_count": 2,
   "metadata": {
    "collapsed": false
   },
   "outputs": [],
   "source": [
    "with open('./rebalanced_data/train_set_sru.pickle', mode='rb') as f:\n",
    "    train_set = pickle.load(f)"
   ]
  },
  {
   "cell_type": "code",
   "execution_count": 4,
   "metadata": {
    "collapsed": true
   },
   "outputs": [],
   "source": [
    "with open('./rebalanced_data/test_set.pickle', mode='rb') as f:\n",
    "    test_set = pickle.load(f)"
   ]
  },
  {
   "cell_type": "code",
   "execution_count": 5,
   "metadata": {
    "collapsed": false
   },
   "outputs": [],
   "source": [
    "df_train = pd.DataFrame(train_set['x'], columns=train_set['x'].columns)\n",
    "df_train['Results'] = train_set['y']"
   ]
  },
  {
   "cell_type": "markdown",
   "metadata": {},
   "source": [
    "Conversión de dataframe de Pandas a dataframe de Spark."
   ]
  },
  {
   "cell_type": "code",
   "execution_count": 6,
   "metadata": {
    "collapsed": true
   },
   "outputs": [],
   "source": [
    "spark_df_train = spark.createDataFrame(df_train)"
   ]
  },
  {
   "cell_type": "markdown",
   "metadata": {},
   "source": [
    "Creación del H2O Context"
   ]
  },
  {
   "cell_type": "code",
   "execution_count": 7,
   "metadata": {
    "collapsed": false,
    "scrolled": true
   },
   "outputs": [
    {
     "name": "stdout",
     "output_type": "stream",
     "text": [
      "Connecting to H2O server at http://192.168.1.48:54321... successful.\n"
     ]
    },
    {
     "data": {
      "text/html": [
       "<div style=\"overflow:auto\"><table style=\"width:50%\"><tr><td>H2O cluster uptime:</td>\n",
       "<td>10 secs</td></tr>\n",
       "<tr><td>H2O cluster version:</td>\n",
       "<td>3.14.0.2</td></tr>\n",
       "<tr><td>H2O cluster version age:</td>\n",
       "<td>11 days </td></tr>\n",
       "<tr><td>H2O cluster name:</td>\n",
       "<td>sparkling-water-jose_local-1504378951094</td></tr>\n",
       "<tr><td>H2O cluster total nodes:</td>\n",
       "<td>1</td></tr>\n",
       "<tr><td>H2O cluster free memory:</td>\n",
       "<td>770 Mb</td></tr>\n",
       "<tr><td>H2O cluster total cores:</td>\n",
       "<td>4</td></tr>\n",
       "<tr><td>H2O cluster allowed cores:</td>\n",
       "<td>4</td></tr>\n",
       "<tr><td>H2O cluster status:</td>\n",
       "<td>accepting new members, healthy</td></tr>\n",
       "<tr><td>H2O connection url:</td>\n",
       "<td>http://192.168.1.48:54321</td></tr>\n",
       "<tr><td>H2O connection proxy:</td>\n",
       "<td>None</td></tr>\n",
       "<tr><td>H2O internal security:</td>\n",
       "<td>False</td></tr>\n",
       "<tr><td>H2O API Extensions:</td>\n",
       "<td>XGBoost, Algos, AutoML, Core V3, Core V4</td></tr>\n",
       "<tr><td>Python version:</td>\n",
       "<td>3.5.2 final</td></tr></table></div>"
      ],
      "text/plain": [
       "--------------------------  ----------------------------------------\n",
       "H2O cluster uptime:         10 secs\n",
       "H2O cluster version:        3.14.0.2\n",
       "H2O cluster version age:    11 days\n",
       "H2O cluster name:           sparkling-water-jose_local-1504378951094\n",
       "H2O cluster total nodes:    1\n",
       "H2O cluster free memory:    770 Mb\n",
       "H2O cluster total cores:    4\n",
       "H2O cluster allowed cores:  4\n",
       "H2O cluster status:         accepting new members, healthy\n",
       "H2O connection url:         http://192.168.1.48:54321\n",
       "H2O connection proxy:\n",
       "H2O internal security:      False\n",
       "H2O API Extensions:         XGBoost, Algos, AutoML, Core V3, Core V4\n",
       "Python version:             3.5.2 final\n",
       "--------------------------  ----------------------------------------"
      ]
     },
     "metadata": {},
     "output_type": "display_data"
    }
   ],
   "source": [
    "hc = H2OContext.getOrCreate(spark)"
   ]
  },
  {
   "cell_type": "code",
   "execution_count": 8,
   "metadata": {
    "collapsed": false
   },
   "outputs": [],
   "source": [
    "df_train_h2o = hc.as_h2o_frame(spark_df_train, \"phishing_websites_train\")"
   ]
  },
  {
   "cell_type": "code",
   "execution_count": 9,
   "metadata": {
    "collapsed": true
   },
   "outputs": [],
   "source": [
    "for col in list(df_train.columns):\n",
    "    df_train_h2o[col] = df_train_h2o[col].asfactor()"
   ]
  },
  {
   "cell_type": "code",
   "execution_count": 32,
   "metadata": {
    "collapsed": true
   },
   "outputs": [],
   "source": [
    "df_test = pd.DataFrame(test_set['x'], columns=test_set['x'].columns)\n",
    "df_test['Results'] = test_set['y']\n",
    "\n",
    "spark_df_test = spark.createDataFrame(df_test)\n",
    "\n",
    "df_test_h2o = hc.as_h2o_frame(spark_df_test, \"phishing_websites_test\")\n",
    "\n",
    "for col in list(df_test.columns):\n",
    "    df_test_h2o[col] = df_test_h2o[col].asfactor()"
   ]
  },
  {
   "cell_type": "markdown",
   "metadata": {},
   "source": [
    "## Grandient Boosting Machine"
   ]
  },
  {
   "cell_type": "code",
   "execution_count": 13,
   "metadata": {
    "collapsed": false
   },
   "outputs": [
    {
     "name": "stdout",
     "output_type": "stream",
     "text": [
      "gbm Grid Build progress: |████████████████████████████████████████████████| 100%\n",
      "Hyperparameters: [col_sample_rate_per_tree, col_sample_rate_change_per_level, min_split_improvement, learn_rate, ntrees, max_depth]\n",
      "[0.3333333333333333, 0.5, 0.002, 0.1, 90, 15]\n"
     ]
    }
   ],
   "source": [
    "gbm_model = H2OGradientBoostingEstimator(\n",
    "                                         distribution = \"bernoulli\",\n",
    "                                         nfolds=5,\n",
    "                                         seed=SEED\n",
    "                                        )\n",
    "\n",
    "tuned_parameters = {'ntrees': [10, 50, 70, 80, 90, 100],\n",
    "                    'max_depth': [4, 8, 15],\n",
    "                    'learn_rate': [0.1, 0.2, 0.5],\n",
    "                    'min_split_improvement': [0.002, 0.005, 0.01],\n",
    "                    'col_sample_rate_per_tree': [5/len(train_set['x'].columns), \n",
    "                                                8/len(train_set['x'].columns), \n",
    "                                                10/len(train_set['x'].columns)\n",
    "                                               ],\n",
    "                    'col_sample_rate_change_per_level': [1, 0.5, 0.2]}\n",
    "\n",
    "\n",
    "search_criteria = {\n",
    "  \"strategy\": \"RandomDiscrete\", #RandomDiscrete para pruebas en local, Cartesian cuando se despliegue\n",
    "  \"max_runtime_secs\": 60, # Solo para pruebas en local\n",
    "  \"stopping_metric\": \"AUC\",\n",
    "  \"stopping_tolerance\": 0.00001,\n",
    "  \"seed\": SEED # Solo para pruebas en local\n",
    "}\n",
    "\n",
    "# Mirar consola para ver resultados de CV Grid-Search\n",
    "gs = H2OGridSearch(gbm_model, tuned_parameters, search_criteria=search_criteria)\n",
    "\n",
    "gs.train(x=list(range(0, (len(df_train.columns)-1) ))\n",
    "         ,y=29, training_frame=df_train_h2o)\n",
    "\n",
    "grid = gs.get_grid(sort_by='Precision', decreasing=True)\n",
    "\n",
    "best_model_id = grid.model_ids[0]\n",
    "print(gs.get_hyperparams(best_model_id))\n",
    "best_model_gbm = h2o.get_model(best_model_id)"
   ]
  },
  {
   "cell_type": "code",
   "execution_count": 14,
   "metadata": {
    "collapsed": false
   },
   "outputs": [
    {
     "name": "stdout",
     "output_type": "stream",
     "text": [
      "\n",
      "Grid Summary:\n",
      "\n"
     ]
    },
    {
     "data": {
      "text/html": [
       "<div style=\"overflow:auto\"><table style=\"width:50%\"><tr><td><b>Model Id</b></td>\n",
       "<td><b>number_of_trees</b></td>\n",
       "<td><b>number_of_internal_trees</b></td>\n",
       "<td><b>model_size_in_bytes</b></td>\n",
       "<td><b>min_depth</b></td>\n",
       "<td><b>max_depth</b></td>\n",
       "<td><b>mean_depth</b></td>\n",
       "<td><b>min_leaves</b></td>\n",
       "<td><b>max_leaves</b></td>\n",
       "<td><b>mean_leaves</b></td></tr>\n",
       "<tr><td>Grid_GBM_py_30_sid_95f8_model_python_1504378979143_1_model_1</td>\n",
       "<td>50.0</td>\n",
       "<td>50.0</td>\n",
       "<td>4727.0</td>\n",
       "<td>0.0</td>\n",
       "<td>5.0</td>\n",
       "<td>0.92</td>\n",
       "<td>1.0</td>\n",
       "<td>12.0</td>\n",
       "<td>2.36</td></tr>\n",
       "<tr><td>Grid_GBM_py_30_sid_95f8_model_python_1504378979143_1_model_2</td>\n",
       "<td>70.0</td>\n",
       "<td>70.0</td>\n",
       "<td>6632.0</td>\n",
       "<td>0.0</td>\n",
       "<td>4.0</td>\n",
       "<td>1.0428572</td>\n",
       "<td>1.0</td>\n",
       "<td>9.0</td>\n",
       "<td>2.3857143</td></tr>\n",
       "<tr><td>Grid_GBM_py_30_sid_95f8_model_python_1504378979143_1_model_3</td>\n",
       "<td>31.0</td>\n",
       "<td>31.0</td>\n",
       "<td>9935.0</td>\n",
       "<td>4.0</td>\n",
       "<td>9.0</td>\n",
       "<td>6.483871</td>\n",
       "<td>7.0</td>\n",
       "<td>34.0</td>\n",
       "<td>20.516129</td></tr>\n",
       "<tr><td>Grid_GBM_py_30_sid_95f8_model_python_1504378979143_1_model_0</td>\n",
       "<td>10.0</td>\n",
       "<td>10.0</td>\n",
       "<td>6761.0</td>\n",
       "<td>6.0</td>\n",
       "<td>12.0</td>\n",
       "<td>8.5</td>\n",
       "<td>9.0</td>\n",
       "<td>143.0</td>\n",
       "<td>49.0</td></tr></table></div>"
      ],
      "text/plain": [
       "Model Id                                                      number_of_trees    number_of_internal_trees    model_size_in_bytes    min_depth    max_depth    mean_depth    min_leaves    max_leaves    mean_leaves\n",
       "------------------------------------------------------------  -----------------  --------------------------  ---------------------  -----------  -----------  ------------  ------------  ------------  -------------\n",
       "Grid_GBM_py_30_sid_95f8_model_python_1504378979143_1_model_1  50                 50                          4727                   0            5            0.92          1             12            2.36\n",
       "Grid_GBM_py_30_sid_95f8_model_python_1504378979143_1_model_2  70                 70                          6632                   0            4            1.04286       1             9             2.38571\n",
       "Grid_GBM_py_30_sid_95f8_model_python_1504378979143_1_model_3  31                 31                          9935                   4            9            6.48387       7             34            20.5161\n",
       "Grid_GBM_py_30_sid_95f8_model_python_1504378979143_1_model_0  10                 10                          6761                   6            12           8.5           9             143           49"
      ]
     },
     "metadata": {},
     "output_type": "display_data"
    }
   ],
   "source": [
    "print(gs.summary())"
   ]
  },
  {
   "cell_type": "code",
   "execution_count": 15,
   "metadata": {
    "collapsed": false
   },
   "outputs": [
    {
     "data": {
      "text/html": [
       "<div>\n",
       "<style>\n",
       "    .dataframe thead tr:only-child th {\n",
       "        text-align: right;\n",
       "    }\n",
       "\n",
       "    .dataframe thead th {\n",
       "        text-align: left;\n",
       "    }\n",
       "\n",
       "    .dataframe tbody tr th {\n",
       "        vertical-align: top;\n",
       "    }\n",
       "</style>\n",
       "<table border=\"1\" class=\"dataframe\">\n",
       "  <thead>\n",
       "    <tr style=\"text-align: right;\">\n",
       "      <th></th>\n",
       "      <th></th>\n",
       "      <th>col_sample_rate_change_per_level</th>\n",
       "      <th>col_sample_rate_per_tree</th>\n",
       "      <th>learn_rate</th>\n",
       "      <th>max_depth</th>\n",
       "      <th>min_split_improvement</th>\n",
       "      <th>ntrees</th>\n",
       "      <th>model_ids</th>\n",
       "      <th>logloss</th>\n",
       "    </tr>\n",
       "  </thead>\n",
       "  <tbody>\n",
       "    <tr>\n",
       "      <th>0</th>\n",
       "      <td></td>\n",
       "      <td>0.5</td>\n",
       "      <td>0.16666666666666666</td>\n",
       "      <td>0.5</td>\n",
       "      <td>15</td>\n",
       "      <td>0.005</td>\n",
       "      <td>50</td>\n",
       "      <td>Grid_GBM_py_30_sid_95f8_model_python_1504378979143_1_model_1</td>\n",
       "      <td>0.17384623592834642</td>\n",
       "    </tr>\n",
       "    <tr>\n",
       "      <th>1</th>\n",
       "      <td></td>\n",
       "      <td>0.2</td>\n",
       "      <td>0.3333333333333333</td>\n",
       "      <td>0.2</td>\n",
       "      <td>4</td>\n",
       "      <td>0.01</td>\n",
       "      <td>70</td>\n",
       "      <td>Grid_GBM_py_30_sid_95f8_model_python_1504378979143_1_model_2</td>\n",
       "      <td>0.18766298797205935</td>\n",
       "    </tr>\n",
       "    <tr>\n",
       "      <th>2</th>\n",
       "      <td></td>\n",
       "      <td>0.5</td>\n",
       "      <td>0.3333333333333333</td>\n",
       "      <td>0.1</td>\n",
       "      <td>15</td>\n",
       "      <td>0.002</td>\n",
       "      <td>31</td>\n",
       "      <td>Grid_GBM_py_30_sid_95f8_model_python_1504378979143_1_model_3</td>\n",
       "      <td>0.2109936482523133</td>\n",
       "    </tr>\n",
       "    <tr>\n",
       "      <th>3</th>\n",
       "      <td></td>\n",
       "      <td>1.0</td>\n",
       "      <td>0.3333333333333333</td>\n",
       "      <td>0.2</td>\n",
       "      <td>15</td>\n",
       "      <td>0.01</td>\n",
       "      <td>10</td>\n",
       "      <td>Grid_GBM_py_30_sid_95f8_model_python_1504378979143_1_model_0</td>\n",
       "      <td>0.2885591318165788</td>\n",
       "    </tr>\n",
       "  </tbody>\n",
       "</table>\n",
       "</div>"
      ],
      "text/plain": [
       "    col_sample_rate_change_per_level col_sample_rate_per_tree learn_rate  \\\n",
       "0                                0.5      0.16666666666666666        0.5   \n",
       "1                                0.2       0.3333333333333333        0.2   \n",
       "2                                0.5       0.3333333333333333        0.1   \n",
       "3                                1.0       0.3333333333333333        0.2   \n",
       "\n",
       "  max_depth min_split_improvement ntrees  \\\n",
       "0        15                 0.005     50   \n",
       "1         4                  0.01     70   \n",
       "2        15                 0.002     31   \n",
       "3        15                  0.01     10   \n",
       "\n",
       "                                                      model_ids  \\\n",
       "0  Grid_GBM_py_30_sid_95f8_model_python_1504378979143_1_model_1   \n",
       "1  Grid_GBM_py_30_sid_95f8_model_python_1504378979143_1_model_2   \n",
       "2  Grid_GBM_py_30_sid_95f8_model_python_1504378979143_1_model_3   \n",
       "3  Grid_GBM_py_30_sid_95f8_model_python_1504378979143_1_model_0   \n",
       "\n",
       "               logloss  \n",
       "0  0.17384623592834642  \n",
       "1  0.18766298797205935  \n",
       "2   0.2109936482523133  \n",
       "3   0.2885591318165788  "
      ]
     },
     "execution_count": 15,
     "metadata": {},
     "output_type": "execute_result"
    }
   ],
   "source": [
    "print(gs.sorted_metric_table())"
   ]
  },
  {
   "cell_type": "code",
   "execution_count": 16,
   "metadata": {
    "collapsed": true
   },
   "outputs": [],
   "source": [
    "df_test = pd.DataFrame(test_set['x'], columns=test_set['x'].columns)\n",
    "df_test['Results'] = test_set['y']\n",
    "\n",
    "spark_df_test = spark.createDataFrame(df_test)\n",
    "\n",
    "df_test_h2o = hc.as_h2o_frame(spark_df_test, \"phishing_websites_test\")\n",
    "\n",
    "for col in list(df_test.columns):\n",
    "    df_test_h2o[col] = df_test_h2o[col].asfactor()"
   ]
  },
  {
   "cell_type": "code",
   "execution_count": 17,
   "metadata": {
    "collapsed": false,
    "scrolled": true
   },
   "outputs": [
    {
     "name": "stdout",
     "output_type": "stream",
     "text": [
      "\n",
      "ModelMetricsBinomial: gbm\n",
      "** Reported on test data. **\n",
      "\n",
      "MSE: 0.052761437454541774\n",
      "RMSE: 0.22969857956579046\n",
      "LogLoss: 0.21191216433150972\n",
      "Mean Per-Class Error: 0.0524875705174348\n",
      "AUC: 0.9870059594556138\n",
      "Gini: 0.9740119189112275\n",
      "Confusion Matrix (Act/Pred) for max f1 @ threshold = 0.5324480853633458: \n"
     ]
    },
    {
     "data": {
      "text/html": [
       "<div style=\"overflow:auto\"><table style=\"width:50%\"><tr><td><b></b></td>\n",
       "<td><b>-1</b></td>\n",
       "<td><b>1</b></td>\n",
       "<td><b>Error</b></td>\n",
       "<td><b>Rate</b></td></tr>\n",
       "<tr><td>-1</td>\n",
       "<td>882.0</td>\n",
       "<td>58.0</td>\n",
       "<td>0.0617</td>\n",
       "<td> (58.0/940.0)</td></tr>\n",
       "<tr><td>1</td>\n",
       "<td>55.0</td>\n",
       "<td>1216.0</td>\n",
       "<td>0.0433</td>\n",
       "<td> (55.0/1271.0)</td></tr>\n",
       "<tr><td>Total</td>\n",
       "<td>937.0</td>\n",
       "<td>1274.0</td>\n",
       "<td>0.0511</td>\n",
       "<td> (113.0/2211.0)</td></tr></table></div>"
      ],
      "text/plain": [
       "       -1    1     Error    Rate\n",
       "-----  ----  ----  -------  --------------\n",
       "-1     882   58    0.0617   (58.0/940.0)\n",
       "1      55    1216  0.0433   (55.0/1271.0)\n",
       "Total  937   1274  0.0511   (113.0/2211.0)"
      ]
     },
     "metadata": {},
     "output_type": "display_data"
    },
    {
     "name": "stdout",
     "output_type": "stream",
     "text": [
      "Maximum Metrics: Maximum metrics at their respective thresholds\n",
      "\n"
     ]
    },
    {
     "data": {
      "text/html": [
       "<div style=\"overflow:auto\"><table style=\"width:50%\"><tr><td><b>metric</b></td>\n",
       "<td><b>threshold</b></td>\n",
       "<td><b>value</b></td>\n",
       "<td><b>idx</b></td></tr>\n",
       "<tr><td>max f1</td>\n",
       "<td>0.5324481</td>\n",
       "<td>0.9555992</td>\n",
       "<td>212.0</td></tr>\n",
       "<tr><td>max f2</td>\n",
       "<td>0.3288422</td>\n",
       "<td>0.9668721</td>\n",
       "<td>266.0</td></tr>\n",
       "<tr><td>max f0point5</td>\n",
       "<td>0.5866812</td>\n",
       "<td>0.9585951</td>\n",
       "<td>196.0</td></tr>\n",
       "<tr><td>max accuracy</td>\n",
       "<td>0.5324481</td>\n",
       "<td>0.9488919</td>\n",
       "<td>212.0</td></tr>\n",
       "<tr><td>max precision</td>\n",
       "<td>0.9687464</td>\n",
       "<td>1.0</td>\n",
       "<td>0.0</td></tr>\n",
       "<tr><td>max recall</td>\n",
       "<td>0.1169056</td>\n",
       "<td>1.0</td>\n",
       "<td>334.0</td></tr>\n",
       "<tr><td>max specificity</td>\n",
       "<td>0.9687464</td>\n",
       "<td>1.0</td>\n",
       "<td>0.0</td></tr>\n",
       "<tr><td>max absolute_mcc</td>\n",
       "<td>0.5324481</td>\n",
       "<td>0.8954004</td>\n",
       "<td>212.0</td></tr>\n",
       "<tr><td>max min_per_class_accuracy</td>\n",
       "<td>0.5522096</td>\n",
       "<td>0.9436170</td>\n",
       "<td>206.0</td></tr>\n",
       "<tr><td>max mean_per_class_accuracy</td>\n",
       "<td>0.5324481</td>\n",
       "<td>0.9475124</td>\n",
       "<td>212.0</td></tr></table></div>"
      ],
      "text/plain": [
       "metric                       threshold    value     idx\n",
       "---------------------------  -----------  --------  -----\n",
       "max f1                       0.532448     0.955599  212\n",
       "max f2                       0.328842     0.966872  266\n",
       "max f0point5                 0.586681     0.958595  196\n",
       "max accuracy                 0.532448     0.948892  212\n",
       "max precision                0.968746     1         0\n",
       "max recall                   0.116906     1         334\n",
       "max specificity              0.968746     1         0\n",
       "max absolute_mcc             0.532448     0.8954    212\n",
       "max min_per_class_accuracy   0.55221      0.943617  206\n",
       "max mean_per_class_accuracy  0.532448     0.947512  212"
      ]
     },
     "metadata": {},
     "output_type": "display_data"
    },
    {
     "name": "stdout",
     "output_type": "stream",
     "text": [
      "Gains/Lift Table: Avg response rate: 57.49 %\n",
      "\n"
     ]
    },
    {
     "data": {
      "text/html": [
       "<div style=\"overflow:auto\"><table style=\"width:50%\"><tr><td><b></b></td>\n",
       "<td><b>group</b></td>\n",
       "<td><b>cumulative_data_fraction</b></td>\n",
       "<td><b>lower_threshold</b></td>\n",
       "<td><b>lift</b></td>\n",
       "<td><b>cumulative_lift</b></td>\n",
       "<td><b>response_rate</b></td>\n",
       "<td><b>cumulative_response_rate</b></td>\n",
       "<td><b>capture_rate</b></td>\n",
       "<td><b>cumulative_capture_rate</b></td>\n",
       "<td><b>gain</b></td>\n",
       "<td><b>cumulative_gain</b></td></tr>\n",
       "<tr><td></td>\n",
       "<td>1</td>\n",
       "<td>0.0108548</td>\n",
       "<td>0.9569769</td>\n",
       "<td>1.7395751</td>\n",
       "<td>1.7395751</td>\n",
       "<td>1.0</td>\n",
       "<td>1.0</td>\n",
       "<td>0.0188828</td>\n",
       "<td>0.0188828</td>\n",
       "<td>73.9575138</td>\n",
       "<td>73.9575138</td></tr>\n",
       "<tr><td></td>\n",
       "<td>2</td>\n",
       "<td>0.0203528</td>\n",
       "<td>0.9542140</td>\n",
       "<td>1.7395751</td>\n",
       "<td>1.7395751</td>\n",
       "<td>1.0</td>\n",
       "<td>1.0</td>\n",
       "<td>0.0165224</td>\n",
       "<td>0.0354052</td>\n",
       "<td>73.9575138</td>\n",
       "<td>73.9575138</td></tr>\n",
       "<tr><td></td>\n",
       "<td>3</td>\n",
       "<td>0.0307553</td>\n",
       "<td>0.9514840</td>\n",
       "<td>1.7395751</td>\n",
       "<td>1.7395751</td>\n",
       "<td>1.0</td>\n",
       "<td>1.0</td>\n",
       "<td>0.0180960</td>\n",
       "<td>0.0535012</td>\n",
       "<td>73.9575138</td>\n",
       "<td>73.9575138</td></tr>\n",
       "<tr><td></td>\n",
       "<td>4</td>\n",
       "<td>0.0402533</td>\n",
       "<td>0.9481567</td>\n",
       "<td>1.7395751</td>\n",
       "<td>1.7395751</td>\n",
       "<td>1.0</td>\n",
       "<td>1.0</td>\n",
       "<td>0.0165224</td>\n",
       "<td>0.0700236</td>\n",
       "<td>73.9575138</td>\n",
       "<td>73.9575138</td></tr>\n",
       "<tr><td></td>\n",
       "<td>5</td>\n",
       "<td>0.0502035</td>\n",
       "<td>0.9462129</td>\n",
       "<td>1.7395751</td>\n",
       "<td>1.7395751</td>\n",
       "<td>1.0</td>\n",
       "<td>1.0</td>\n",
       "<td>0.0173092</td>\n",
       "<td>0.0873328</td>\n",
       "<td>73.9575138</td>\n",
       "<td>73.9575138</td></tr>\n",
       "<tr><td></td>\n",
       "<td>6</td>\n",
       "<td>0.1004071</td>\n",
       "<td>0.9347821</td>\n",
       "<td>1.7395751</td>\n",
       "<td>1.7395751</td>\n",
       "<td>1.0</td>\n",
       "<td>1.0</td>\n",
       "<td>0.0873328</td>\n",
       "<td>0.1746656</td>\n",
       "<td>73.9575138</td>\n",
       "<td>73.9575138</td></tr>\n",
       "<tr><td></td>\n",
       "<td>7</td>\n",
       "<td>0.1501583</td>\n",
       "<td>0.9217809</td>\n",
       "<td>1.7395751</td>\n",
       "<td>1.7395751</td>\n",
       "<td>1.0</td>\n",
       "<td>1.0</td>\n",
       "<td>0.0865460</td>\n",
       "<td>0.2612116</td>\n",
       "<td>73.9575138</td>\n",
       "<td>73.9575138</td></tr>\n",
       "<tr><td></td>\n",
       "<td>8</td>\n",
       "<td>0.2003618</td>\n",
       "<td>0.9075689</td>\n",
       "<td>1.7395751</td>\n",
       "<td>1.7395751</td>\n",
       "<td>1.0</td>\n",
       "<td>1.0</td>\n",
       "<td>0.0873328</td>\n",
       "<td>0.3485445</td>\n",
       "<td>73.9575138</td>\n",
       "<td>73.9575138</td></tr>\n",
       "<tr><td></td>\n",
       "<td>9</td>\n",
       "<td>0.3007689</td>\n",
       "<td>0.8769666</td>\n",
       "<td>1.7160674</td>\n",
       "<td>1.7317274</td>\n",
       "<td>0.9864865</td>\n",
       "<td>0.9954887</td>\n",
       "<td>0.1723053</td>\n",
       "<td>0.5208497</td>\n",
       "<td>71.6067366</td>\n",
       "<td>73.1727430</td></tr>\n",
       "<tr><td></td>\n",
       "<td>10</td>\n",
       "<td>0.4002714</td>\n",
       "<td>0.8288437</td>\n",
       "<td>1.7237608</td>\n",
       "<td>1.7297470</td>\n",
       "<td>0.9909091</td>\n",
       "<td>0.9943503</td>\n",
       "<td>0.1715185</td>\n",
       "<td>0.6923682</td>\n",
       "<td>72.3760818</td>\n",
       "<td>72.9747030</td></tr>\n",
       "<tr><td></td>\n",
       "<td>11</td>\n",
       "<td>0.5002261</td>\n",
       "<td>0.7116598</td>\n",
       "<td>1.6215044</td>\n",
       "<td>1.7081181</td>\n",
       "<td>0.9321267</td>\n",
       "<td>0.9819168</td>\n",
       "<td>0.1620771</td>\n",
       "<td>0.8544453</td>\n",
       "<td>62.1504427</td>\n",
       "<td>70.8118083</td></tr>\n",
       "<tr><td></td>\n",
       "<td>12</td>\n",
       "<td>0.6001809</td>\n",
       "<td>0.4567824</td>\n",
       "<td>1.1807071</td>\n",
       "<td>1.6202825</td>\n",
       "<td>0.6787330</td>\n",
       "<td>0.9314243</td>\n",
       "<td>0.1180173</td>\n",
       "<td>0.9724626</td>\n",
       "<td>18.0707107</td>\n",
       "<td>62.0282494</td></tr>\n",
       "<tr><td></td>\n",
       "<td>13</td>\n",
       "<td>0.7005880</td>\n",
       "<td>0.1812171</td>\n",
       "<td>0.2429136</td>\n",
       "<td>1.4228804</td>\n",
       "<td>0.1396396</td>\n",
       "<td>0.8179471</td>\n",
       "<td>0.0243902</td>\n",
       "<td>0.9968529</td>\n",
       "<td>-75.7086355</td>\n",
       "<td>42.2880374</td></tr>\n",
       "<tr><td></td>\n",
       "<td>14</td>\n",
       "<td>0.8000905</td>\n",
       "<td>0.0797151</td>\n",
       "<td>0.0316286</td>\n",
       "<td>1.2498587</td>\n",
       "<td>0.0181818</td>\n",
       "<td>0.7184850</td>\n",
       "<td>0.0031471</td>\n",
       "<td>1.0</td>\n",
       "<td>-96.8371361</td>\n",
       "<td>24.9858677</td></tr>\n",
       "<tr><td></td>\n",
       "<td>15</td>\n",
       "<td>0.9000452</td>\n",
       "<td>0.0570189</td>\n",
       "<td>0.0</td>\n",
       "<td>1.1110553</td>\n",
       "<td>0.0</td>\n",
       "<td>0.6386935</td>\n",
       "<td>0.0</td>\n",
       "<td>1.0</td>\n",
       "<td>-100.0</td>\n",
       "<td>11.1055276</td></tr>\n",
       "<tr><td></td>\n",
       "<td>16</td>\n",
       "<td>1.0</td>\n",
       "<td>0.0312700</td>\n",
       "<td>0.0</td>\n",
       "<td>1.0</td>\n",
       "<td>0.0</td>\n",
       "<td>0.5748530</td>\n",
       "<td>0.0</td>\n",
       "<td>1.0</td>\n",
       "<td>-100.0</td>\n",
       "<td>0.0</td></tr></table></div>"
      ],
      "text/plain": [
       "    group    cumulative_data_fraction    lower_threshold    lift       cumulative_lift    response_rate    cumulative_response_rate    capture_rate    cumulative_capture_rate    gain      cumulative_gain\n",
       "--  -------  --------------------------  -----------------  ---------  -----------------  ---------------  --------------------------  --------------  -------------------------  --------  -----------------\n",
       "    1        0.0108548                   0.956977           1.73958    1.73958            1                1                           0.0188828       0.0188828                  73.9575   73.9575\n",
       "    2        0.0203528                   0.954214           1.73958    1.73958            1                1                           0.0165224       0.0354052                  73.9575   73.9575\n",
       "    3        0.0307553                   0.951484           1.73958    1.73958            1                1                           0.018096        0.0535012                  73.9575   73.9575\n",
       "    4        0.0402533                   0.948157           1.73958    1.73958            1                1                           0.0165224       0.0700236                  73.9575   73.9575\n",
       "    5        0.0502035                   0.946213           1.73958    1.73958            1                1                           0.0173092       0.0873328                  73.9575   73.9575\n",
       "    6        0.100407                    0.934782           1.73958    1.73958            1                1                           0.0873328       0.174666                   73.9575   73.9575\n",
       "    7        0.150158                    0.921781           1.73958    1.73958            1                1                           0.086546        0.261212                   73.9575   73.9575\n",
       "    8        0.200362                    0.907569           1.73958    1.73958            1                1                           0.0873328       0.348544                   73.9575   73.9575\n",
       "    9        0.300769                    0.876967           1.71607    1.73173            0.986486         0.995489                    0.172305        0.52085                    71.6067   73.1727\n",
       "    10       0.400271                    0.828844           1.72376    1.72975            0.990909         0.99435                     0.171518        0.692368                   72.3761   72.9747\n",
       "    11       0.500226                    0.71166            1.6215     1.70812            0.932127         0.981917                    0.162077        0.854445                   62.1504   70.8118\n",
       "    12       0.600181                    0.456782           1.18071    1.62028            0.678733         0.931424                    0.118017        0.972463                   18.0707   62.0282\n",
       "    13       0.700588                    0.181217           0.242914   1.42288            0.13964          0.817947                    0.0243902       0.996853                   -75.7086  42.288\n",
       "    14       0.80009                     0.0797151          0.0316286  1.24986            0.0181818        0.718485                    0.00314713      1                          -96.8371  24.9859\n",
       "    15       0.900045                    0.0570189          0          1.11106            0                0.638693                    0               1                          -100      11.1055\n",
       "    16       1                           0.03127            0          1                  0                0.574853                    0               1                          -100      0"
      ]
     },
     "metadata": {},
     "output_type": "display_data"
    },
    {
     "name": "stdout",
     "output_type": "stream",
     "text": [
      "\n"
     ]
    },
    {
     "data": {
      "text/plain": []
     },
     "execution_count": 17,
     "metadata": {},
     "output_type": "execute_result"
    }
   ],
   "source": [
    "performance_test = best_model_gbm.model_performance(df_test_h2o)\n",
    "\n",
    "print(performance_test)"
   ]
  },
  {
   "cell_type": "code",
   "execution_count": 18,
   "metadata": {
    "collapsed": false
   },
   "outputs": [
    {
     "data": {
      "text/plain": [
       "0.9488919041157847"
      ]
     },
     "execution_count": 18,
     "metadata": {},
     "output_type": "execute_result"
    }
   ],
   "source": [
    "print(performance_test.accuracy()[0][1])"
   ]
  },
  {
   "cell_type": "markdown",
   "metadata": {},
   "source": [
    "## Random Forest"
   ]
  },
  {
   "cell_type": "code",
   "execution_count": 26,
   "metadata": {
    "collapsed": true
   },
   "outputs": [],
   "source": [
    "rf_model = H2ORandomForestEstimator(\n",
    "                                     nfolds=5,\n",
    "                                     seed=SEED,\n",
    "                                     fold_assignment='Stratified'\n",
    "                                    )\n",
    "\n",
    "tuned_parameters = {'ntrees': [50, 100, 200],\n",
    "                    'mtries': [-1],\n",
    "                    'max_depth': [4, 8, 10, 15],\n",
    "                    'min_rows': [0.02, 0.05, 0.1]\n",
    "                   }\n",
    "\n",
    "search_criteria = {\n",
    "  \"strategy\": \"RandomDiscrete\", #RandomDiscrete para pruebas en local, Cartesian cuando se despliegue\n",
    "  \"max_runtime_secs\": 60, # Solo para pruebas en local\n",
    "  \"stopping_metric\": \"AUC\",\n",
    "  \"stopping_tolerance\": 0.00001,\n",
    "  \"seed\": SEED # Solo para pruebas en local\n",
    "}"
   ]
  },
  {
   "cell_type": "code",
   "execution_count": 27,
   "metadata": {
    "collapsed": false,
    "scrolled": true
   },
   "outputs": [],
   "source": [
    "# Mirar consola para ver resultados de CV Grid-Search\n",
    "gs = H2OGridSearch(rf_model, tuned_parameters, search_criteria=search_criteria)"
   ]
  },
  {
   "cell_type": "code",
   "execution_count": 28,
   "metadata": {
    "collapsed": false,
    "scrolled": true
   },
   "outputs": [
    {
     "name": "stdout",
     "output_type": "stream",
     "text": [
      "drf Grid Build progress: |████████████████████████████████████████████████| 100%\n"
     ]
    }
   ],
   "source": [
    "gs.train(x=list(range(0, (len(df_train.columns)-1) )), y=29, training_frame=df_train_h2o)"
   ]
  },
  {
   "cell_type": "code",
   "execution_count": 29,
   "metadata": {
    "collapsed": false
   },
   "outputs": [
    {
     "name": "stdout",
     "output_type": "stream",
     "text": [
      "Hyperparameters: [min_rows, mtries, ntrees, max_depth]\n",
      "[0.1, -1, 200, 15]\n"
     ]
    }
   ],
   "source": [
    "grid = gs.get_grid(sort_by='Precision', decreasing=True)\n",
    "\n",
    "best_model_id = grid.model_ids[0]\n",
    "print(gs.get_hyperparams(best_model_id))\n",
    "best_model_rf = h2o.get_model(best_model_id)"
   ]
  },
  {
   "cell_type": "code",
   "execution_count": 30,
   "metadata": {
    "collapsed": false
   },
   "outputs": [
    {
     "name": "stdout",
     "output_type": "stream",
     "text": [
      "\n",
      "Grid Summary:\n",
      "\n"
     ]
    },
    {
     "data": {
      "text/html": [
       "<div style=\"overflow:auto\"><table style=\"width:50%\"><tr><td><b>Model Id</b></td>\n",
       "<td><b>number_of_trees</b></td>\n",
       "<td><b>number_of_internal_trees</b></td>\n",
       "<td><b>model_size_in_bytes</b></td>\n",
       "<td><b>min_depth</b></td>\n",
       "<td><b>max_depth</b></td>\n",
       "<td><b>mean_depth</b></td>\n",
       "<td><b>min_leaves</b></td>\n",
       "<td><b>max_leaves</b></td>\n",
       "<td><b>mean_leaves</b></td></tr>\n",
       "<tr><td>Grid_DRF_py_30_sid_95f8_model_python_1504378979143_3605_model_0</td>\n",
       "<td>200.0</td>\n",
       "<td>200.0</td>\n",
       "<td>897909.0</td>\n",
       "<td>15.0</td>\n",
       "<td>15.0</td>\n",
       "<td>15.0</td>\n",
       "<td>256.0</td>\n",
       "<td>477.0</td>\n",
       "<td>352.815</td></tr>\n",
       "<tr><td>Grid_DRF_py_30_sid_95f8_model_python_1504378979143_3605_model_1</td>\n",
       "<td>39.0</td>\n",
       "<td>39.0</td>\n",
       "<td>51507.0</td>\n",
       "<td>8.0</td>\n",
       "<td>8.0</td>\n",
       "<td>8.0</td>\n",
       "<td>68.0</td>\n",
       "<td>145.0</td>\n",
       "<td>100.0512850</td></tr></table></div>"
      ],
      "text/plain": [
       "Model Id                                                         number_of_trees    number_of_internal_trees    model_size_in_bytes    min_depth    max_depth    mean_depth    min_leaves    max_leaves    mean_leaves\n",
       "---------------------------------------------------------------  -----------------  --------------------------  ---------------------  -----------  -----------  ------------  ------------  ------------  -------------\n",
       "Grid_DRF_py_30_sid_95f8_model_python_1504378979143_3605_model_0  200                200                         897909                 15           15           15            256           477           352.815\n",
       "Grid_DRF_py_30_sid_95f8_model_python_1504378979143_3605_model_1  39                 39                          51507                  8            8            8             68            145           100.051"
      ]
     },
     "metadata": {},
     "output_type": "display_data"
    }
   ],
   "source": [
    "print(gs.summary())"
   ]
  },
  {
   "cell_type": "code",
   "execution_count": 31,
   "metadata": {
    "collapsed": false
   },
   "outputs": [
    {
     "data": {
      "text/html": [
       "<div>\n",
       "<style>\n",
       "    .dataframe thead tr:only-child th {\n",
       "        text-align: right;\n",
       "    }\n",
       "\n",
       "    .dataframe thead th {\n",
       "        text-align: left;\n",
       "    }\n",
       "\n",
       "    .dataframe tbody tr th {\n",
       "        vertical-align: top;\n",
       "    }\n",
       "</style>\n",
       "<table border=\"1\" class=\"dataframe\">\n",
       "  <thead>\n",
       "    <tr style=\"text-align: right;\">\n",
       "      <th></th>\n",
       "      <th></th>\n",
       "      <th>max_depth</th>\n",
       "      <th>min_rows</th>\n",
       "      <th>mtries</th>\n",
       "      <th>ntrees</th>\n",
       "      <th>model_ids</th>\n",
       "      <th>logloss</th>\n",
       "    </tr>\n",
       "  </thead>\n",
       "  <tbody>\n",
       "    <tr>\n",
       "      <th>0</th>\n",
       "      <td></td>\n",
       "      <td>15</td>\n",
       "      <td>0.1</td>\n",
       "      <td>-1</td>\n",
       "      <td>200</td>\n",
       "      <td>Grid_DRF_py_30_sid_95f8_model_python_1504378979143_3605_model_0</td>\n",
       "      <td>0.1000103779586281</td>\n",
       "    </tr>\n",
       "    <tr>\n",
       "      <th>1</th>\n",
       "      <td></td>\n",
       "      <td>8</td>\n",
       "      <td>0.02</td>\n",
       "      <td>-1</td>\n",
       "      <td>39</td>\n",
       "      <td>Grid_DRF_py_30_sid_95f8_model_python_1504378979143_3605_model_1</td>\n",
       "      <td>0.16603006075376542</td>\n",
       "    </tr>\n",
       "  </tbody>\n",
       "</table>\n",
       "</div>"
      ],
      "text/plain": [
       "    max_depth min_rows mtries ntrees  \\\n",
       "0          15      0.1     -1    200   \n",
       "1           8     0.02     -1     39   \n",
       "\n",
       "                                                         model_ids  \\\n",
       "0  Grid_DRF_py_30_sid_95f8_model_python_1504378979143_3605_model_0   \n",
       "1  Grid_DRF_py_30_sid_95f8_model_python_1504378979143_3605_model_1   \n",
       "\n",
       "               logloss  \n",
       "0   0.1000103779586281  \n",
       "1  0.16603006075376542  "
      ]
     },
     "execution_count": 31,
     "metadata": {},
     "output_type": "execute_result"
    }
   ],
   "source": [
    "print(gs.sorted_metric_table())"
   ]
  },
  {
   "cell_type": "code",
   "execution_count": 33,
   "metadata": {
    "collapsed": false,
    "scrolled": true
   },
   "outputs": [
    {
     "name": "stdout",
     "output_type": "stream",
     "text": [
      "\n",
      "ModelMetricsBinomial: gbm\n",
      "** Reported on test data. **\n",
      "\n",
      "MSE: 0.052761437454541774\n",
      "RMSE: 0.22969857956579046\n",
      "LogLoss: 0.21191216433150972\n",
      "Mean Per-Class Error: 0.0524875705174348\n",
      "AUC: 0.9870059594556138\n",
      "Gini: 0.9740119189112275\n",
      "Confusion Matrix (Act/Pred) for max f1 @ threshold = 0.5324480853633458: \n"
     ]
    },
    {
     "data": {
      "text/html": [
       "<div style=\"overflow:auto\"><table style=\"width:50%\"><tr><td><b></b></td>\n",
       "<td><b>-1</b></td>\n",
       "<td><b>1</b></td>\n",
       "<td><b>Error</b></td>\n",
       "<td><b>Rate</b></td></tr>\n",
       "<tr><td>-1</td>\n",
       "<td>882.0</td>\n",
       "<td>58.0</td>\n",
       "<td>0.0617</td>\n",
       "<td> (58.0/940.0)</td></tr>\n",
       "<tr><td>1</td>\n",
       "<td>55.0</td>\n",
       "<td>1216.0</td>\n",
       "<td>0.0433</td>\n",
       "<td> (55.0/1271.0)</td></tr>\n",
       "<tr><td>Total</td>\n",
       "<td>937.0</td>\n",
       "<td>1274.0</td>\n",
       "<td>0.0511</td>\n",
       "<td> (113.0/2211.0)</td></tr></table></div>"
      ],
      "text/plain": [
       "       -1    1     Error    Rate\n",
       "-----  ----  ----  -------  --------------\n",
       "-1     882   58    0.0617   (58.0/940.0)\n",
       "1      55    1216  0.0433   (55.0/1271.0)\n",
       "Total  937   1274  0.0511   (113.0/2211.0)"
      ]
     },
     "metadata": {},
     "output_type": "display_data"
    },
    {
     "name": "stdout",
     "output_type": "stream",
     "text": [
      "Maximum Metrics: Maximum metrics at their respective thresholds\n",
      "\n"
     ]
    },
    {
     "data": {
      "text/html": [
       "<div style=\"overflow:auto\"><table style=\"width:50%\"><tr><td><b>metric</b></td>\n",
       "<td><b>threshold</b></td>\n",
       "<td><b>value</b></td>\n",
       "<td><b>idx</b></td></tr>\n",
       "<tr><td>max f1</td>\n",
       "<td>0.5324481</td>\n",
       "<td>0.9555992</td>\n",
       "<td>212.0</td></tr>\n",
       "<tr><td>max f2</td>\n",
       "<td>0.3288422</td>\n",
       "<td>0.9668721</td>\n",
       "<td>266.0</td></tr>\n",
       "<tr><td>max f0point5</td>\n",
       "<td>0.5866812</td>\n",
       "<td>0.9585951</td>\n",
       "<td>196.0</td></tr>\n",
       "<tr><td>max accuracy</td>\n",
       "<td>0.5324481</td>\n",
       "<td>0.9488919</td>\n",
       "<td>212.0</td></tr>\n",
       "<tr><td>max precision</td>\n",
       "<td>0.9687464</td>\n",
       "<td>1.0</td>\n",
       "<td>0.0</td></tr>\n",
       "<tr><td>max recall</td>\n",
       "<td>0.1169056</td>\n",
       "<td>1.0</td>\n",
       "<td>334.0</td></tr>\n",
       "<tr><td>max specificity</td>\n",
       "<td>0.9687464</td>\n",
       "<td>1.0</td>\n",
       "<td>0.0</td></tr>\n",
       "<tr><td>max absolute_mcc</td>\n",
       "<td>0.5324481</td>\n",
       "<td>0.8954004</td>\n",
       "<td>212.0</td></tr>\n",
       "<tr><td>max min_per_class_accuracy</td>\n",
       "<td>0.5522096</td>\n",
       "<td>0.9436170</td>\n",
       "<td>206.0</td></tr>\n",
       "<tr><td>max mean_per_class_accuracy</td>\n",
       "<td>0.5324481</td>\n",
       "<td>0.9475124</td>\n",
       "<td>212.0</td></tr></table></div>"
      ],
      "text/plain": [
       "metric                       threshold    value     idx\n",
       "---------------------------  -----------  --------  -----\n",
       "max f1                       0.532448     0.955599  212\n",
       "max f2                       0.328842     0.966872  266\n",
       "max f0point5                 0.586681     0.958595  196\n",
       "max accuracy                 0.532448     0.948892  212\n",
       "max precision                0.968746     1         0\n",
       "max recall                   0.116906     1         334\n",
       "max specificity              0.968746     1         0\n",
       "max absolute_mcc             0.532448     0.8954    212\n",
       "max min_per_class_accuracy   0.55221      0.943617  206\n",
       "max mean_per_class_accuracy  0.532448     0.947512  212"
      ]
     },
     "metadata": {},
     "output_type": "display_data"
    },
    {
     "name": "stdout",
     "output_type": "stream",
     "text": [
      "Gains/Lift Table: Avg response rate: 57.49 %\n",
      "\n"
     ]
    },
    {
     "data": {
      "text/html": [
       "<div style=\"overflow:auto\"><table style=\"width:50%\"><tr><td><b></b></td>\n",
       "<td><b>group</b></td>\n",
       "<td><b>cumulative_data_fraction</b></td>\n",
       "<td><b>lower_threshold</b></td>\n",
       "<td><b>lift</b></td>\n",
       "<td><b>cumulative_lift</b></td>\n",
       "<td><b>response_rate</b></td>\n",
       "<td><b>cumulative_response_rate</b></td>\n",
       "<td><b>capture_rate</b></td>\n",
       "<td><b>cumulative_capture_rate</b></td>\n",
       "<td><b>gain</b></td>\n",
       "<td><b>cumulative_gain</b></td></tr>\n",
       "<tr><td></td>\n",
       "<td>1</td>\n",
       "<td>0.0108548</td>\n",
       "<td>0.9569769</td>\n",
       "<td>1.7395751</td>\n",
       "<td>1.7395751</td>\n",
       "<td>1.0</td>\n",
       "<td>1.0</td>\n",
       "<td>0.0188828</td>\n",
       "<td>0.0188828</td>\n",
       "<td>73.9575138</td>\n",
       "<td>73.9575138</td></tr>\n",
       "<tr><td></td>\n",
       "<td>2</td>\n",
       "<td>0.0203528</td>\n",
       "<td>0.9542140</td>\n",
       "<td>1.7395751</td>\n",
       "<td>1.7395751</td>\n",
       "<td>1.0</td>\n",
       "<td>1.0</td>\n",
       "<td>0.0165224</td>\n",
       "<td>0.0354052</td>\n",
       "<td>73.9575138</td>\n",
       "<td>73.9575138</td></tr>\n",
       "<tr><td></td>\n",
       "<td>3</td>\n",
       "<td>0.0307553</td>\n",
       "<td>0.9514840</td>\n",
       "<td>1.7395751</td>\n",
       "<td>1.7395751</td>\n",
       "<td>1.0</td>\n",
       "<td>1.0</td>\n",
       "<td>0.0180960</td>\n",
       "<td>0.0535012</td>\n",
       "<td>73.9575138</td>\n",
       "<td>73.9575138</td></tr>\n",
       "<tr><td></td>\n",
       "<td>4</td>\n",
       "<td>0.0402533</td>\n",
       "<td>0.9481567</td>\n",
       "<td>1.7395751</td>\n",
       "<td>1.7395751</td>\n",
       "<td>1.0</td>\n",
       "<td>1.0</td>\n",
       "<td>0.0165224</td>\n",
       "<td>0.0700236</td>\n",
       "<td>73.9575138</td>\n",
       "<td>73.9575138</td></tr>\n",
       "<tr><td></td>\n",
       "<td>5</td>\n",
       "<td>0.0502035</td>\n",
       "<td>0.9462129</td>\n",
       "<td>1.7395751</td>\n",
       "<td>1.7395751</td>\n",
       "<td>1.0</td>\n",
       "<td>1.0</td>\n",
       "<td>0.0173092</td>\n",
       "<td>0.0873328</td>\n",
       "<td>73.9575138</td>\n",
       "<td>73.9575138</td></tr>\n",
       "<tr><td></td>\n",
       "<td>6</td>\n",
       "<td>0.1004071</td>\n",
       "<td>0.9347821</td>\n",
       "<td>1.7395751</td>\n",
       "<td>1.7395751</td>\n",
       "<td>1.0</td>\n",
       "<td>1.0</td>\n",
       "<td>0.0873328</td>\n",
       "<td>0.1746656</td>\n",
       "<td>73.9575138</td>\n",
       "<td>73.9575138</td></tr>\n",
       "<tr><td></td>\n",
       "<td>7</td>\n",
       "<td>0.1501583</td>\n",
       "<td>0.9217809</td>\n",
       "<td>1.7395751</td>\n",
       "<td>1.7395751</td>\n",
       "<td>1.0</td>\n",
       "<td>1.0</td>\n",
       "<td>0.0865460</td>\n",
       "<td>0.2612116</td>\n",
       "<td>73.9575138</td>\n",
       "<td>73.9575138</td></tr>\n",
       "<tr><td></td>\n",
       "<td>8</td>\n",
       "<td>0.2003618</td>\n",
       "<td>0.9075689</td>\n",
       "<td>1.7395751</td>\n",
       "<td>1.7395751</td>\n",
       "<td>1.0</td>\n",
       "<td>1.0</td>\n",
       "<td>0.0873328</td>\n",
       "<td>0.3485445</td>\n",
       "<td>73.9575138</td>\n",
       "<td>73.9575138</td></tr>\n",
       "<tr><td></td>\n",
       "<td>9</td>\n",
       "<td>0.3007689</td>\n",
       "<td>0.8769666</td>\n",
       "<td>1.7160674</td>\n",
       "<td>1.7317274</td>\n",
       "<td>0.9864865</td>\n",
       "<td>0.9954887</td>\n",
       "<td>0.1723053</td>\n",
       "<td>0.5208497</td>\n",
       "<td>71.6067366</td>\n",
       "<td>73.1727430</td></tr>\n",
       "<tr><td></td>\n",
       "<td>10</td>\n",
       "<td>0.4002714</td>\n",
       "<td>0.8288437</td>\n",
       "<td>1.7237608</td>\n",
       "<td>1.7297470</td>\n",
       "<td>0.9909091</td>\n",
       "<td>0.9943503</td>\n",
       "<td>0.1715185</td>\n",
       "<td>0.6923682</td>\n",
       "<td>72.3760818</td>\n",
       "<td>72.9747030</td></tr>\n",
       "<tr><td></td>\n",
       "<td>11</td>\n",
       "<td>0.5002261</td>\n",
       "<td>0.7116598</td>\n",
       "<td>1.6215044</td>\n",
       "<td>1.7081181</td>\n",
       "<td>0.9321267</td>\n",
       "<td>0.9819168</td>\n",
       "<td>0.1620771</td>\n",
       "<td>0.8544453</td>\n",
       "<td>62.1504427</td>\n",
       "<td>70.8118083</td></tr>\n",
       "<tr><td></td>\n",
       "<td>12</td>\n",
       "<td>0.6001809</td>\n",
       "<td>0.4567824</td>\n",
       "<td>1.1807071</td>\n",
       "<td>1.6202825</td>\n",
       "<td>0.6787330</td>\n",
       "<td>0.9314243</td>\n",
       "<td>0.1180173</td>\n",
       "<td>0.9724626</td>\n",
       "<td>18.0707107</td>\n",
       "<td>62.0282494</td></tr>\n",
       "<tr><td></td>\n",
       "<td>13</td>\n",
       "<td>0.7005880</td>\n",
       "<td>0.1812171</td>\n",
       "<td>0.2429136</td>\n",
       "<td>1.4228804</td>\n",
       "<td>0.1396396</td>\n",
       "<td>0.8179471</td>\n",
       "<td>0.0243902</td>\n",
       "<td>0.9968529</td>\n",
       "<td>-75.7086355</td>\n",
       "<td>42.2880374</td></tr>\n",
       "<tr><td></td>\n",
       "<td>14</td>\n",
       "<td>0.8000905</td>\n",
       "<td>0.0797151</td>\n",
       "<td>0.0316286</td>\n",
       "<td>1.2498587</td>\n",
       "<td>0.0181818</td>\n",
       "<td>0.7184850</td>\n",
       "<td>0.0031471</td>\n",
       "<td>1.0</td>\n",
       "<td>-96.8371361</td>\n",
       "<td>24.9858677</td></tr>\n",
       "<tr><td></td>\n",
       "<td>15</td>\n",
       "<td>0.9000452</td>\n",
       "<td>0.0570189</td>\n",
       "<td>0.0</td>\n",
       "<td>1.1110553</td>\n",
       "<td>0.0</td>\n",
       "<td>0.6386935</td>\n",
       "<td>0.0</td>\n",
       "<td>1.0</td>\n",
       "<td>-100.0</td>\n",
       "<td>11.1055276</td></tr>\n",
       "<tr><td></td>\n",
       "<td>16</td>\n",
       "<td>1.0</td>\n",
       "<td>0.0312700</td>\n",
       "<td>0.0</td>\n",
       "<td>1.0</td>\n",
       "<td>0.0</td>\n",
       "<td>0.5748530</td>\n",
       "<td>0.0</td>\n",
       "<td>1.0</td>\n",
       "<td>-100.0</td>\n",
       "<td>0.0</td></tr></table></div>"
      ],
      "text/plain": [
       "    group    cumulative_data_fraction    lower_threshold    lift       cumulative_lift    response_rate    cumulative_response_rate    capture_rate    cumulative_capture_rate    gain      cumulative_gain\n",
       "--  -------  --------------------------  -----------------  ---------  -----------------  ---------------  --------------------------  --------------  -------------------------  --------  -----------------\n",
       "    1        0.0108548                   0.956977           1.73958    1.73958            1                1                           0.0188828       0.0188828                  73.9575   73.9575\n",
       "    2        0.0203528                   0.954214           1.73958    1.73958            1                1                           0.0165224       0.0354052                  73.9575   73.9575\n",
       "    3        0.0307553                   0.951484           1.73958    1.73958            1                1                           0.018096        0.0535012                  73.9575   73.9575\n",
       "    4        0.0402533                   0.948157           1.73958    1.73958            1                1                           0.0165224       0.0700236                  73.9575   73.9575\n",
       "    5        0.0502035                   0.946213           1.73958    1.73958            1                1                           0.0173092       0.0873328                  73.9575   73.9575\n",
       "    6        0.100407                    0.934782           1.73958    1.73958            1                1                           0.0873328       0.174666                   73.9575   73.9575\n",
       "    7        0.150158                    0.921781           1.73958    1.73958            1                1                           0.086546        0.261212                   73.9575   73.9575\n",
       "    8        0.200362                    0.907569           1.73958    1.73958            1                1                           0.0873328       0.348544                   73.9575   73.9575\n",
       "    9        0.300769                    0.876967           1.71607    1.73173            0.986486         0.995489                    0.172305        0.52085                    71.6067   73.1727\n",
       "    10       0.400271                    0.828844           1.72376    1.72975            0.990909         0.99435                     0.171518        0.692368                   72.3761   72.9747\n",
       "    11       0.500226                    0.71166            1.6215     1.70812            0.932127         0.981917                    0.162077        0.854445                   62.1504   70.8118\n",
       "    12       0.600181                    0.456782           1.18071    1.62028            0.678733         0.931424                    0.118017        0.972463                   18.0707   62.0282\n",
       "    13       0.700588                    0.181217           0.242914   1.42288            0.13964          0.817947                    0.0243902       0.996853                   -75.7086  42.288\n",
       "    14       0.80009                     0.0797151          0.0316286  1.24986            0.0181818        0.718485                    0.00314713      1                          -96.8371  24.9859\n",
       "    15       0.900045                    0.0570189          0          1.11106            0                0.638693                    0               1                          -100      11.1055\n",
       "    16       1                           0.03127            0          1                  0                0.574853                    0               1                          -100      0"
      ]
     },
     "metadata": {},
     "output_type": "display_data"
    },
    {
     "name": "stdout",
     "output_type": "stream",
     "text": [
      "\n"
     ]
    },
    {
     "data": {
      "text/plain": []
     },
     "execution_count": 33,
     "metadata": {},
     "output_type": "execute_result"
    }
   ],
   "source": [
    "performance_test = best_model_gbm.model_performance(df_test_h2o)\n",
    "\n",
    "print(performance_test)"
   ]
  },
  {
   "cell_type": "code",
   "execution_count": 34,
   "metadata": {
    "collapsed": false
   },
   "outputs": [
    {
     "data": {
      "text/plain": [
       "0.9488919041157847"
      ]
     },
     "execution_count": 34,
     "metadata": {},
     "output_type": "execute_result"
    }
   ],
   "source": [
    "print(performance_test.accuracy()[0][1])"
   ]
  }
 ],
 "metadata": {
  "anaconda-cloud": {},
  "kernelspec": {
   "display_name": "Python [intro]",
   "language": "python",
   "name": "Python [intro]"
  },
  "language_info": {
   "codemirror_mode": {
    "name": "ipython",
    "version": 3
   },
   "file_extension": ".py",
   "mimetype": "text/x-python",
   "name": "python",
   "nbconvert_exporter": "python",
   "pygments_lexer": "ipython3",
   "version": "3.5.2"
  }
 },
 "nbformat": 4,
 "nbformat_minor": 0
}
